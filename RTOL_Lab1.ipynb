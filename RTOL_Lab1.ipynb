{
 "cells": [
  {
   "cell_type": "markdown",
   "metadata": {},
   "source": [
    "# Lab 1: Introduction to Handling Phylogenetic Data"
   ]
  },
  {
   "cell_type": "markdown",
   "metadata": {},
   "source": [
    "<img src=\"http://bigtreestrategies.com/wp-content/uploads/2011/07/BigTree.jpg\" width=\"900\" height=\"10\">"
   ]
  },
  {
   "cell_type": "markdown",
   "metadata": {},
   "source": [
    "## Objectives\n",
    "\n",
    "* Understand the difference between text and binary files, and appreciate that for our purposes, all data are simply text files\n",
    "* Explore basic computing skills: the command line (shell), R, and Jupyter notebooks\n",
    "* Learn how to find and download sequences from GenBank:\n",
    "  * Form search queries\n",
    "  * Perform BLAST searches\n",
    "* Use Python to download sequences and format them into FASTA files"
   ]
  },
  {
   "cell_type": "markdown",
   "metadata": {},
   "source": [
    "## Introduction\n",
    "\n",
    "For extant (living) species, reconstructing phylogeny has come to rely primarily on **DNA sequences** -- initially, just sequences of single genes, but now, increasingly, on genome-scale data sets of hundreds or thousands of genes. We will learn the basics in upcoming labs, but to begin we will get acquainted with scientific computing in general, including files and file formats, and how to find and download DNA sequence data (and some morphological data) from public respositories."
   ]
  },
  {
   "cell_type": "markdown",
   "metadata": {},
   "source": [
    "## Files and file formats\n",
    "\n",
    "If your work with computers to date has mostly involved double-clicking on file icons to open them in programs like Word or Photoshop, you might not appreciate the difference between [binary files](https://en.wikipedia.org/wiki/Binary_file) and [text files](https://en.wikipedia.org/wiki/Text_file). An accessible yet detailed explanation can be found [here](https://www.nayuki.io/page/what-are-binary-and-text-files), but the main distinction is that text files are organized fundamentally by _lines_ (rows) of _characters_ (letters, numbers, and so on), and are generally meant to be human-readable.\n",
    "\n",
    "> ***Bottom line:*** text files are the bread-and-butter of scientific data analysis; they are used for source code and scripts, and often for data storage. In phylogenetics, ***all data files are text files***.\n",
    "\n",
    "### Text file formats\n",
    "\n",
    "The _format_ of a file refers to how its contents are structured. Whereas binary file formats are commonly specific to particular programs -- you can't open a Word document in Photoshop, for example -- a text file of any format can be opened in a text editor (e.g., TextEdit, Sublime Text, Atom, and for the diehards, Emacs and Vim). ***(Note: Word is not a text editor!)*** A common text file format for tabular data is [CSV](https://www.computerhope.com/issues/ch001356.htm). In phylogenetics, there are various text file formats for data, trees, and so on, that we will see in time."
   ]
  },
  {
   "cell_type": "markdown",
   "metadata": {},
   "source": [
    "## 1. Using the command line\n",
    "\n",
    "We will be using the Terminal, so it’s important to to feel at least somewhat comfortable with the command line. Here are some common commands.\n",
    "\n",
    "> ***NB:*** A Unix \"directory\" is the same as a Mac or Windows \"folder\"\n",
    "\n",
    "|Command|Function|\n",
    "|:---------:|:----------:|\n",
    "|`pwd`|Print working directory (tells you where you are)|\n",
    "|`cd foo`|Change (move) to existing directory `foo`|\n",
    "|`mkdir foo`|Make a new directory `foo`|\n",
    "|`ls`|List the contents of the current directory|\n",
    "|`mv foo bar/`|Move `foo` into the directory `bar`|\n",
    "|`mv foo bar`|Rename the file `foo` to `bar` (assuming `bar` is not an existing directory)|\n",
    "|`rm foo`|Deletes the file `foo`|\n",
    "|`man foo`|Read the documentation for command `foo` (exit = `q`)|\n",
    "|`head foo`|Look at first ten lines of `foo` (useful for large files)|\n",
    "|`tail foo`|Look at last ten lines of `foo` (useful for large files)|\n",
    "|`less foo`|Interactively page through the contents of `foo`|\n",
    "|`grep -e foo bar`|Print all lines containing the text `foo` in file `bar`|\n",
    "|`./foo`|Run the program `foo` whose executable file is in the current directory|\n",
    "|`cd ../`|Move to the containing directory (one level \"up\")|"
   ]
  },
  {
   "cell_type": "markdown",
   "metadata": {},
   "source": [
    "---\n",
    "<img style=\"float: right;\" src=\"http://www.reelab.net/todo.png\">\n",
    "\n",
    "#### Practice\n",
    "1. Open a Terminal (a new one, not the one running this notebook).\n",
    "2. Look at what directory you are in.\n",
    "```bash\n",
    "pwd\n",
    "```\n",
    "3. Make a new directory (name it whatever you want).\n",
    "```bash\n",
    "mkdir your_directory/\n",
    "```\n",
    "4. Make a second directory.\n",
    "5. Move one of your directories into the other.\n",
    "```bash\n",
    "mv your_directory/ dir2/\n",
    "```\n",
    "6. Change working directory to your new directory. \n",
    "```bash\n",
    "cd dir2/\n",
    "```\n",
    "7. Look inside your new directory.\n",
    "```bash\n",
    "ls\n",
    "```\n",
    "For a more detailed look:\n",
    "```bash\n",
    "ls –l\n",
    "```\n",
    "8. Move back to the original directory.\n",
    "```bash\n",
    "cd ..\n",
    "```\n",
    "9. Read more about the command `rm`\n",
    "```bash\n",
    "man rm\n",
    "```\n",
    "Use `<space>` to page through the documentation, and `q` to quit.\n",
    "10. Delete both directories you’ve made.\n",
    "```bash\n",
    "rm –r dir2/\n",
    "```\n",
    "\n",
    "##### Warning!\n",
    "* **`rm -r`** will delete the file or directory you list and *everything* inside of it. It will not ask you whether you are sure. BE CAREFUL using it. "
   ]
  },
  {
   "cell_type": "markdown",
   "metadata": {},
   "source": [
    "---\n",
    "## 2. Statistical Computing in R\n",
    "\n",
    "R provides a wide variety of statistical and graphical functions, and is widely used in data science. Here are some basics:\n",
    "\n",
    "|Command|Function|\n",
    "|:---------:|:----------:|\n",
    "|`getwd()`|Print working directory (equivalent to “pwd” in Unix)|\n",
    "|`setwd(\"[dir/]\")`|Set working directory (equivalent to “cd” in Unix)|\n",
    "|`c(a,b,c)`|Concatenate *numbers* a,b,c into *vector*|\n",
    "|`c(a:z)`|Concatenate *numbers* from a to z into a *vector*|\n",
    "|`cbind(x,y,z)`|Concatenate *vectors* x,y,z into a *matrix* by columns|\n",
    "|`rbind(x,y,z)`|Concatenate *vectors* x,y,z into a *matrix* by rows|\n",
    "|`class(x)`|Return class of objext x|\n",
    "|`matrix(x,nrow,ncol)`|Builds *matrix* by dividing *vector* x into nrow and ncol|\n",
    "|`plot(x,y)`|Plots elements of *vector* x against *vector* y|\n",
    "|`density(x)`|Estimates density distribution of univeriate observations|\n",
    "|`read.table(\"file.txt\")`|Read text file that is in a table format|\n",
    "|`rnorm(n)`|Generates a normally distributed *vector* of length n|\n",
    "|`?[function]`|Access documentation for a given function (e.g. ?rnorm)|"
   ]
  },
  {
   "cell_type": "markdown",
   "metadata": {},
   "source": [
    "---\n",
    "<img style=\"float: right;\" src=\"http://www.reelab.net/todo.png\">\n",
    "#### Practice\n",
    "\n",
    "1. Change the kernel of this notebook to R using the _Kernel_ menu above.\n",
    "2. Insert a new cell below this one.\n",
    "2. Create a 10x10 matrix of random numbers drawn from a normal distribution, bound to the variable `A`, and print it out. Retype or copy the following code into the new cell, and execute it by typing `CTRL-Enter` (or use the buttons/menus above).\n",
    "```R\n",
    "A <- matrix(rnorm(100),10,10)\n",
    "A\n",
    "```\n",
    "\n",
    "---\n"
   ]
  },
  {
   "cell_type": "markdown",
   "metadata": {},
   "source": [
    "---\n",
    "<img style=\"float: right;\" src=\"http://www.reelab.net/todo.png\">\n",
    "#### Insert a new cell below and use it for the following exercises.\n",
    "\n",
    "5. Plot the first and second columns of `A` against each other.\n",
    "```R\n",
    "plot(A[,1],A[,2])\n",
    "```\n",
    "5. Replot the same data with a title and axis labels.\n",
    "```R\n",
    "plot(A[,1],A[,2],main=\"Title\",xlab=\"X axis\",ylab=\"Y axis\")\n",
    "```\n",
    "6. Change your matrix to a dataframe.\n",
    "```R\n",
    "A <- as.data.frame(A)\n",
    "```\n",
    "7. Check the class of your dataframe.\n",
    "```R\n",
    "class(A)\n",
    "```\n",
    "8. Plot the first and second columns from the dataframe.\n",
    "```bash\n",
    "plot(A$V1,A$V2)\n",
    "```\n",
    "\n",
    "---"
   ]
  },
  {
   "cell_type": "markdown",
   "metadata": {},
   "source": [
    "---\n",
    "<img style=\"float: right;\" src=\"http://www.reelab.net/todo.png\">\n",
    "#### Insert a new cell below for the following exercise.\n",
    "\n",
    "1. Download a test file of tabular data: [sample.csv](https://sites.google.com/a/fieldmuseum.org/rtol/lab-exercises/sample.csv?attredirects=0&d=1) and save it to the current directory\n",
    "9. Import the data into a variable `B`.\n",
    "```R\n",
    "B <- read.table(\"sample.csv\",header = TRUE)\n",
    "```\n",
    "\n",
    "10. Check the class of the object `B`.\n",
    "```R\n",
    "class(B)\n",
    "```\n",
    "\n",
    "11. Plot \"Lineages\" against \"Age\".\n",
    "```bash\n",
    "plot(B$Age,B$Lineages)\n",
    "```\n",
    "\n",
    "---"
   ]
  },
  {
   "cell_type": "markdown",
   "metadata": {},
   "source": [
    "---\n",
    "## 3. Searching for and Obtaining Data from Online Databases\n",
    "\n",
    "![running horse](http://buzzsharer.com/wp-content/uploads/2015/06/beautiful-running-horse.jpg)\n",
    "\n",
    "_GenBank_ (http://www.ncbi.nlm.nih.gov/Genbank/index.html) is a free, publicly available online database for DNA sequence data. It contains loads of data.  Nearly all published studies are required (by the journal) to deposit any new sequence data in _GenBank_. It is part of the _NCBI_ cluster (http://www.ncbi.nlm.nih.gov/), which includes several databases (literature, molecular, and genome), as well as tools for searching and analyzing the databases, tutorials and educational links, and information on submitting your own data."
   ]
  },
  {
   "cell_type": "markdown",
   "metadata": {},
   "source": [
    "---\n",
    "<img style=\"float: right;\" src=\"http://www.reelab.net/todo.png\">\n",
    "#### Go back to the NCBI webpage and search for “Equus” (the genus for horses, zebras, donkeys and asses).\n",
    "\n",
    "By default, the search option is set to “All Databases”. You can ask it to select an individual database, but for now, just leave it on “All Databases”. You should now see the number of matches returned for each database. Try clicking on a few of the databases to see what data are available for _Equus_.  \n",
    "\n",
    "For this course we will primarily rely on data found in the _Nucleotide_ and _PopSet_ databases, but also use the _Taxonomy_ and _PubMed/PubMed Central_ databases. **Click on the PubMed and PubMed Central links and check out what articles are available for _Equus_**."
   ]
  },
  {
   "cell_type": "markdown",
   "metadata": {},
   "source": [
    "---\n",
    "<img style=\"float: right;\" src=\"http://www.reelab.net/todo.png\">\n",
    "#### Edit this cell (double click on it; CTRL-Enter to save) and answer the following questions about _Equus_:\n",
    "\n",
    "1. How many nucleotide sequences are available in the _Nucelotide_ database?\n",
    "\n",
    "2. Have multiple genes been sequenced?\n",
    "\n",
    "3. Look at \"Top Organisms\" (upper right bar). Are all the sequences from _Equus_?\n",
    "\n",
    "4. If not, do you have any idea why they were returned as matches?\n",
    "\n",
    "---"
   ]
  },
  {
   "cell_type": "markdown",
   "metadata": {},
   "source": [
    "---\n",
    "<img style=\"float: right;\" src=\"http://www.reelab.net/todo.png\">\n",
    "#### Search for accession number `U70192`\n",
    "\n",
    "This is a complete sequence of the alpha 2 hemoglobin gene in _Equus greyi_ (Grevy's Zebra - one of the zebras from today's reading). Notice the phrase \"complete cds\" at the end of the defintion. This tells us the record contains the complete coding sequence of the gene, versus \"partial cds\".\n",
    "\n",
    "> ***NB: `cds` = coding sequence***"
   ]
  },
  {
   "cell_type": "markdown",
   "metadata": {},
   "source": [
    "---\n",
    "<img style=\"float: right;\" src=\"http://www.reelab.net/todo.png\">\n",
    "#### Edit this cell and answer the following questions\n",
    "\n",
    "1. How long is the sequence?\n",
    "2. Is the sequence from a protein-coding gene?\n",
    "3. What happens if you click on the \"CDS\" link?\n",
    "4. Is base 167 of the unedited sequence a first, second, or third position codon? How do you know?\n",
    "---"
   ]
  },
  {
   "cell_type": "markdown",
   "metadata": {},
   "source": [
    "This is a complete cds, but remember that the first base in _partial cds_ records in _GenBank_ may not be the first base of the coding sequence.\n",
    "\n",
    "We can also see the name of the product that is produced by these exons, as well as a translation of the protein itself (a string of letters coding for individual amino acids – MVLSAADKTNV…).  Notice that the protein sequence has its own _GenBank_ record with some more detailed information (where it says “protein_id=”).\n"
   ]
  },
  {
   "cell_type": "markdown",
   "metadata": {},
   "source": [
    "### Using Search Limits\n",
    "\n",
    "Let's go back to the search you did for _Equus_ earlier in the lab. Recall that many of the sequences returned were not from _Equus_ species."
   ]
  },
  {
   "cell_type": "markdown",
   "metadata": {},
   "source": [
    "---\n",
    "<img style=\"float: right;\" src=\"http://www.reelab.net/todo.png\">\n",
    "#### Edit this cell to provide the answers\n",
    "1. Click on \"Advanced\" under the search field within the _Nucleotide_ database.\n",
    "2. Select \"Organism\" from the Search Builder options.\n",
    "3. Again, type in \"_Equus_\", click \"Search\", and look at your results.\n",
    "4. **Are all of the sequences from _Equus_?**\n",
    "5. **How many are there?**\n",
    "---"
   ]
  },
  {
   "cell_type": "markdown",
   "metadata": {},
   "source": [
    ">***Accession numbers***: In NCBI, each sequence is identified primarily by a unique __accession number__. These usually begin with 1-2 letters, followed by 5-6 numbers. They can be used in searches to retrive a range of sequences: e.g.,you can enter two accession numbers separated by a colon (try “U70192:U70194”). Sequences published together in a paper are usually assigned a continuous sequence of accession numbers."
   ]
  },
  {
   "cell_type": "markdown",
   "metadata": {},
   "source": [
    "### Downloading Sequences from _GenBank_\n",
    "\n",
    "![](https://i.ytimg.com/vi/uXdzuz5Q-hs/maxresdefault.jpg)\n",
    "\n",
    "There is _a lot_ of data in _GenBank_, and a lot of great research can be done using it -- you will do some for your final projects! But how do you wrangle the data into a usable format?"
   ]
  },
  {
   "cell_type": "markdown",
   "metadata": {},
   "source": [
    "---\n",
    "<img style=\"float: right;\" src=\"http://www.reelab.net/todo.png\">\n",
    "#### Download just the sequences from _Equus kiang_ (the largest of the wild asses)\n",
    "\n",
    "1. Return again to the “_Equus_” advanced search results\n",
    "2. Find _Equus kiang_ in the \"Top Organism\" list, and select it.\n",
    "2. Click the \"Send to\" link (upper right) and choose \"File\".\n",
    "3. Select the \"FASTA\" format.\n",
    "4. Save the file and open it in any text editor, or open it from this notebook using _File_->_Open..._\n",
    "5. Look at the file and note its structure: this is the FASTA format.\n",
    "\n",
    "> ***FASTA format***: this is a simple format that can be read by many programs. The first line of a sequence begins with a  `>` followed by the sequence name, and subsequent lines contain the sequence itself.  A line break separates each sequence from the name of the next sequence.\n",
    "\n",
    "```\n",
    "    >cat\n",
    "    ATGCATGC\n",
    "    >dog\n",
    "    ATGCATGC\n",
    "    ...\n",
    "```\n",
    "---"
   ]
  },
  {
   "cell_type": "markdown",
   "metadata": {},
   "source": [
    "### Searching by similarity: the Basic Local Alignment Search Tool (_BLAST_)\n",
    "\n",
    "_BLAST_ (http://blast.ncbi.nlm.nih.gov/) is an incredibly useful tool that very quickly finds the closest (most similar) matches to a query sequence. The “nucleotide blast” option is the most commonly used in phylogenetics.\n",
    "\n",
    "On the Standard Nucleotide BLAST query page, you can paste the query sequence, enter its accession number, or upload a file containing the sequence. Let’s use the accession number of the zebra sequence we examined previously, `U70192`."
   ]
  },
  {
   "cell_type": "markdown",
   "metadata": {},
   "source": [
    "---\n",
    "<img style=\"float: right;\" src=\"http://www.reelab.net/todo.png\">\n",
    "1. Enter the accession number in the first box.\n",
    "2. Select the database to search: **nr/nt** is best for non-model organisms.\n",
    "3. Under **Program Selection**, select **Somewhat similar sequences (blastn)**. This option is best for finding matches in more distantly related species.\n",
    "---\n",
    "\n",
    "A number of sequences will be returned.  These matches are color-coded by the degree of similarity.  Scroll down and you can see the individual sequences, along with a number of statistics describing the closeness of the match.  The higher the coverage and the lower the E-value, the closer the match. See the link on the top-right of the page for more information."
   ]
  },
  {
   "cell_type": "markdown",
   "metadata": {},
   "source": [
    "---\n",
    "<img style=\"float: right;\" src=\"http://www.reelab.net/todo.png\">\n",
    "#### Edit this cell and answer:\n",
    "\n",
    "1. What is the closest match?\n",
    "2. What is the second closest match?\n",
    "---"
   ]
  },
  {
   "cell_type": "markdown",
   "metadata": {},
   "source": [
    "## 4. Downloading published sequences for future labs\n",
    "\n",
    "In the coming labs we will work with data from this paper:\n",
    "\n",
    "[Gómez-Acevedo S, Ruci-Arce L, Delgado-Salinas A, Magallón S, Equiarte LE. 2010. Neotropical mutualism between _Acacia_ and _Pseudomyrmex_: Phylogeny and divergence times. _Mol Phylogenet Evol_. 56:393-408.](http://www.sciencedirect.com.proxy.uchicago.edu/science/article/pii/S1055790310001168)\n",
    "\n",
    "This study examines coevolution between acacias and their mutualistic ant parters in the Neotropics. These ants nest in acacia plants and protect them from herbivores, pathogenic fungi, and encroaching vegetation.\n",
    "\n",
    "We will download the ant sequences from their [Table 2](http://www.sciencedirect.com.proxy.uchicago.edu/science/article/pii/S1055790310001168#tbl2) directly from GenBank using the [Biopython](http://biopython.org) library."
   ]
  },
  {
   "cell_type": "markdown",
   "metadata": {},
   "source": [
    "---\n",
    "<img style=\"float: right;\" src=\"http://www.reelab.net/todo.png\">\n",
    "### 4.0 Change the kernel of the notebook to Python 3"
   ]
  },
  {
   "cell_type": "markdown",
   "metadata": {},
   "source": [
    "---\n",
    "<img style=\"float: right;\" src=\"http://www.reelab.net/todo.png\">\n",
    "### 4.1 Copy the accession numbers into a text file\n",
    "\n",
    "1. Go to the Jupyter home tab (showing files in the current directory)\n",
    "2. Create a new text file using the **New** dropdown menu in the upper right corner of the page\n",
    "3. Copy and paste the text from [Table 2](http://www.sciencedirect.com.proxy.uchicago.edu/science/article/pii/S1055790310001168#tbl2) into this file.\n",
    "4. Rename the file `ants.csv` and save it.\n",
    "5. In a Terminal, the command\n",
    "    ```bash\n",
    "    head ants.csv\n",
    "    ```\n",
    "    should yield:\n",
    "    ```\n",
    "    \tSpecies\tLW Rh\tWg\n",
    "    1\tMyrcidris epicharisa\tAY703785\tAY703651\n",
    "    2\tPseudomyrmex apachea\tAY703786\tAY703652\n",
    "    3\tPseudomyrmex boopisa\tAY703787\tAY703653\n",
    "    4\tPseudomyrmex concolora\tAY703788\tAY703654\n",
    "    5\tPseudomyrmex cordiaea\tAY703789\tAY703655\n",
    "    6\tPseudomyrmex cubaensisa\tAY703790\tAY703656\n",
    "    7\tPseudomyrmex dendroicusa\tAY703791\tAY703657\n",
    "    8\tPseudomyrmex denticollisa\tAY703792\tAY703658\n",
    "    9\tPseudomyrmex elongatulusa\tAY703793\tAY703659\n",
    "    ```"
   ]
  },
  {
   "cell_type": "markdown",
   "metadata": {},
   "source": [
    "---\n",
    "<img style=\"float: right;\" src=\"http://www.reelab.net/todo.png\">\n",
    "### 4.2 Read the file into a [pandas dataframe](https://pandas.pydata.org/pandas-docs/stable/dsintro.html#dataframe)\n",
    "\n",
    "Insert a new cell below and execute the following Python code to read the file into a dataframe `df`:\n",
    "\n",
    "```python\n",
    "import pandas as pd\n",
    "df = pd.read_csv('ants.csv', sep='\\t')\n",
    "```\n",
    "\n",
    "The dataframe has 2 columns of accession numbers, one for the long-wavelength rhodopsin gene (`LW Rh`) and one for the _wingless_ gene (`wh`)."
   ]
  },
  {
   "cell_type": "markdown",
   "metadata": {},
   "source": [
    "---\n",
    "<img style=\"float: right;\" src=\"http://www.reelab.net/todo.png\">\n",
    "### 4.3 Use Biopython to fetch the sequences from NCBI and save them as FASTA files\n",
    "\n",
    "```python\n",
    "from Bio import Entrez, SeqIO\n",
    "Entrez.email = 'you@uchicago.edu'  # edit this - identify yourself to NCBI!\n",
    "```\n",
    "\n",
    "Let's do the rhodopsin sequences first.\n",
    "\n",
    "```python\n",
    "accessions = df['LW Rh']  # this selects the dataframe column containing the rhodopsin accession numbers\n",
    "```\n",
    "\n",
    "In the code below, [`Entrez.epost()`](http://biopython.org/DIST/docs/tutorial/Tutorial.html#htoc115) searches NBCI databases by primary identifier; for sequences, these are accession numbers. Next, [`Entrez.efetch()`](http://biopython.org/DIST/docs/tutorial/Tutorial.html#htoc117) takes the results of the search and downloads the sequence data. Finally, the sequence data are parsed into a list of Biopython [`SeqRecord`](http://biopython.org/DIST/docs/tutorial/Tutorial.html#htoc32) objects.\n",
    "\n",
    "```python\n",
    "h = Entrez.epost(db='nucleotide', id=','.join(accessions))  # h is a 'handle' on the results of the search\n",
    "d = Entrez.read(h)\n",
    "h.close()\n",
    "h = Entrez.efetch(db='nucleotide', rettype='gb', retmax=len(v), webenv=d['WebEnv'], query_key=d['QueryKey'])\n",
    "seqs = list(SeqIO.parse(h, 'genbank'))\n",
    "```\n",
    "\n",
    "Let's save the sequences as a FASTA file.\n",
    "\n",
    "```python\n",
    "SeqIO.write(seqs, 'LWRh.fasta', format='fasta')\n",
    "```\n",
    "\n",
    "**Use the `head` (or `less`) command to look at the file**, and notice that lots of information is packed into the sequence labels, e.g.:\n",
    "\n",
    "    >AY703786.1 Pseudomyrmex apache long-wavelength rhodopsin (LW Rh) gene, partial cds\n",
    "\n",
    "For phylogenetic analysis, we typically want these labels to be short and sweet - just the name of the organism, and possibly an identifier like the accession number. Also, they should not contain spaces or punctuation characters. Here's how to save an improved file:\n",
    "\n",
    "```python\n",
    "for s in seqs:\n",
    "    species = '_'.join(s.description.split()[:2])  # the first 2 words are the genus and species\n",
    "    accession = s.name\n",
    "    s.id = '_'.join((species, accession))\n",
    "    s.description = ''  # make this blank, so only the id field gets written\n",
    "SeqIO.write(seqs, 'LWRh.fasta', format='fasta')\n",
    "```\n",
    "\n",
    "Here we take advantage of the fact that the SeqRecord.description field begins with the species binomial. A better method would actually query NCBI and look up the full taxonomic record of the sequence, but we will keep it simple.\n",
    "\n",
    "#### Copy and execute the above code in a new cell below. Then, repeat the exercise to fetch and save the sequences for _wingless_, editing the code as needed.\n",
    "\n",
    "---"
   ]
  },
  {
   "cell_type": "markdown",
   "metadata": {},
   "source": [
    "---\n",
    "\n",
    "## That's all for today!"
   ]
  }
 ],
 "metadata": {
  "kernelspec": {
   "display_name": "Python 3",
   "language": "python",
   "name": "python3"
  },
  "language_info": {
   "codemirror_mode": {
    "name": "ipython",
    "version": 3
   },
   "file_extension": ".py",
   "mimetype": "text/x-python",
   "name": "python",
   "nbconvert_exporter": "python",
   "pygments_lexer": "ipython3",
   "version": "3.6.2"
  }
 },
 "nbformat": 4,
 "nbformat_minor": 1
}
