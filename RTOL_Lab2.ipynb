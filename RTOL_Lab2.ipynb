{
 "cells": [
  {
   "cell_type": "markdown",
   "metadata": {},
   "source": [
    "# Lab 2: Homology and Sequence Alignment\n",
    "![apples and oranges](http://steelcityanesthesia.com/wp-content/uploads/2015/04/ApplesAndOranges_Part2Blog_20150407.png)\n",
    "\n",
    "## Objectives\n",
    "\n",
    "* Manually align DNA sequences using Mesquite\n",
    "* Automatically align sequences using Clustal and MUSCLE\n",
    "* Use codon positions to guide alignment\n",
    "\n",
    "## Introduction\n",
    "\n",
    "Last week, you learned how to download sequences from GenBank. This week, you will learn how to **align** them.\n",
    "\n",
    "As covered in lecture, the goal of **alignment** is to establish the **homology** of nucleotide (or amino acid) positions across the \"terminal taxa\" (a.k.a. operational taxonomic units, or OTUs) -- the individuals, populations, or species represented by the sequences of interest. (The positions of individual nucleotides or amino acids in a sequence are called **sites**.)\n",
    "\n",
    "Establishing homology is a critical step, because inferring phylogeny rests on the assumption that species' differences at a site reflect _ancestor-descendant evolutionary change_ (Darwin's \"descent with modification\"). That is, homologous sites in 2 species should trace their ancestry to the same site in the genome of their common ancestor. We don't want to compare apples and oranges! (Actually, this idiom doesn't work here: apples and oranges are, in fact, homologous in the sense that developmentally, they are both the gynoecium of the flower.)\n",
    "\n",
    "Recall that variation in homologous sequences arises from 2 basic processes:\n",
    "\n",
    "1. **substitution**\n",
    "  * an ancestral nucleotide (or amino acid) is replaced by a different, derived one\n",
    "  * the length of the sequence does not change\n",
    "2. **insertions and deletions (\"indels\")**\n",
    "  * the addition and removal, respectively, of sites from a sequence\n",
    "  * possible causes include:\n",
    "    * DNA polymerase slippage\n",
    "\t* unequal crossing over\n",
    "\t* transposons\n",
    "  * the length of the sequence changes (obviously)\n",
    "\n",
    "In general, the more that sequences vary, the more difficult it is to align them.\n",
    "\n",
    "## Importing and Manually Aligning Sequences\n",
    "\n",
    "Last week, we downloaded sequences of the _wingless_ (wg) and long-wavelength rhodopsin (LWRh) genes for 43 species of ants, and saved them as FASTA files.\n",
    "\n",
    "### Manual Alignment in Mesquite \n",
    "\n",
    "<img src=\"http://www.alexanderwild.com/Ants/Taxonomic-List-of-Ant-Genera/Pseudomyrmex/i-ZHW3q3f/1/XL/termitarius1-XL.jpg\" style=\"float: left; width: 32%; margin-right: 1%; margin-bottom: 0.5em;\"><img src=\"http://www.alexanderwild.com/Ants/Taxonomic-List-of-Ant-Genera/Tetraponera/i-xFN6H3M/1/XL/mocquerysi2-XL.jpg\" style=\"float: left; width: 30%; margin-right: 1%; margin-bottom: 0.5em;\"><img src=\"http://www.alexanderwild.com/Ants/Taxonomic-List-of-Ant-Genera/Pseudomyrmex/i-8HRhKCf/1/XL/gracilis7-XL.jpg\" style=\"float: left; width: 30%; margin-right: 1%; margin-bottom: 0.5em;\"><p style=\"clear: both;\">\n",
    "\n",
    "[Mesquite](http://mesquiteproject.wikispaces.com) is a modular program for evolutionary analyses, emphasizing phylogenetics. It features a graphical user interface (GUI) for tasks such as sequence alignment, constructing and testing models of trait evolution, and visualizing trees. In this lab, we will use it to import, visualize, and manually align DNA sequences."
   ]
  },
  {
   "cell_type": "markdown",
   "metadata": {},
   "source": [
    "---\n",
    "<img style=\"float: right;\" src=\"http://www.reelab.net/todo.png\">\n",
    "\n",
    "1. Open Mesquite (This can take a bit. Patience comes to those who wait.)\n",
    "2. Open the _wingless_ file `wg.fasta`\n",
    "3. A window will appear asking for the file format - select the correct format, and click **OK**.\n",
    "4. Now it will ask you to to save the file in NEXUS format. It's conventional to use `.nex` as the extension for NEXUS files. So, enter `wg.nex` (or accept the default `wg.fasta.nex`) and click **Save**.\n",
    "5. If the DNA sequence matrix doesn't show automatically, click on **Character Matrix** and select **Show Matrix**.\n",
    "6. Scroll around to look at the sequences, and notice that they are not aligned perfectly."
   ]
  },
  {
   "cell_type": "markdown",
   "metadata": {},
   "source": [
    "Mesquite has several tools that you can use to help manually align sequences. Explore the tools in the pane just left of the sequence names.\n",
    "\n",
    "***ADD SCREENSHOTS OF TOOLS?***\n",
    "\n",
    "- _Add Characters_: You can add a gap character between any two characters or at the end of the sequences.\n",
    "\n",
    "- _Push Sequence_: Used to push sequences left or right. This can only be used if there are gaps in the sequence. \n",
    "\n",
    "- _Multiple Sequence Splitter_: You can draw a verticle line between character positions across multiple sequences and then move the split sequences in blocks.\n",
    "\n",
    "- _Move Blocks_: Used to move parts of a single sequence either by pushing the whole sequence or splitting between two bases.\n",
    "\n",
    "- _Multiple Sequence Move Blocks_: You can highlight multiple sequences and then move them as with the single sequence \"Move Blocks\" tool."
   ]
  },
  {
   "cell_type": "markdown",
   "metadata": {},
   "source": [
    "Remember, the only way to move a sequence around is into gaps, so if you need to move the whole sequence to the right there needs to be gaps at the end."
   ]
  },
  {
   "cell_type": "markdown",
   "metadata": {},
   "source": [
    "Familiarize yourself with these tools, and then **manually align the sequences to one another**. There are a few places that need alignment."
   ]
  },
  {
   "cell_type": "markdown",
   "metadata": {},
   "source": [
    "**Questions:**\n",
    "1. Are conserved areas and variable sites evenly distributed? If not, what variation do you see?\n",
    "\n",
    "2. Did you encounter any areas where it was difficult to determine the position of a certain base or group of bases? If you did, do you think these should be included in the phylogenetic analyses? Why or why not?\n",
    "\n",
    "3. What kind of feeling does manual alignment give you?"
   ]
  },
  {
   "cell_type": "markdown",
   "metadata": {
    "collapsed": true
   },
   "source": [
    "### Automated Alignment - Clustal and MUSCLE\n",
    "\n",
    "<img src=\"http://icons.iconarchive.com/icons/iconshow/medical/256/Muscles-icon.png\" style=\"float: left; width: 20%; margin-left: 25%; margin-bottom: 0.5em;\"><img src=\"http://www.clustal.org/images/clustalo_big.png\" style=\"float: left; width: 20%; margin-right: 30%; margin-bottom: 0.5em;\"><p style=\"clear: both;\">\n",
    "If your data set is small or contains little variation across taxa, there may really be no need for automated alignment. In most cases, however, datasets are so large and/or variable that it's best to produce an automated starting alignment that you can then manually refine. Today, you will get a feel for two of the most popular automated alignment programs: Clustal and MUSCLE.\n",
    "\n",
    "---\n",
    "#### Clustal\n",
    "Clustal is used for multiple sequence alignment, and comes in two flavors. ClustalX comes with a GUI (Graphical User Interface), meaning it has menus and is easy to visualize. ClustalW does _not_ have a GUI, and commands must be entered directly in the command line (like you did earlier in Terminal). The alignment methodology for both programs is the same, but today we will just work with ClustalX.\n",
    "\n",
    "---"
   ]
  },
  {
   "cell_type": "markdown",
   "metadata": {},
   "source": [
    "1. Go to \"www.clustal.org/download/current\", and download \"clustalx-2.1-macosx.dmg.\n",
    "2. Once it is in the Downloads folder, double click on it, then open \"ClustalX\".\n",
    "3. Load your unaligned sequences by going to \"File>Load Sequences\" and selecting the file. You should now see a screen that resembles Mesquite (colors!).\n",
    "4. **Question:** Along the top, you should see asterisks at some sites. What does an astrisk above a site indicate?"
   ]
  },
  {
   "cell_type": "markdown",
   "metadata": {},
   "source": [
    "Along the bottom, you will notice what looks like a histogram (bar chart) - these are the \"alignment quality scores\" for each character/position. Loosely speaking, the higher the alignement quality score, the more \"conserved\" this site is, meaning the less variability there is at the site across the included taxa.\n",
    "\n",
    "Now it's time to perform a multiple alignment. At the top, next to the \"Mode\" tab, there is the option of performing a \"multiple\" or \"profile\" alignment, the latter of which can be used when you already have an alignment and want to add sequences. But we want \"multiple alignment\".\n",
    "\n",
    "This process proceeds in three steps:\n",
    "\n",
    "1. Pairwise alignment: Creates matrix of \"distance scores\" documenting the amount of difference between each possible pair of sequences.\n",
    "2. Reconstruct simple tree based on distance scores.\n",
    "3. Uses simple tree as a guide tree to calculate the alignment: Begins at tips with greatest similarity and aligns these, then proceeds \"up\" the tree, aligning subsequent sequences.\n",
    "\n",
    "So, how does the program actually determine alignments as it goes along? Yep, you guessed it! By trying to minimize the number of mismatches and gaps, thereby creating an \"optimal\" alignment. The program gives a certain penalty score to both a mismatch (\"mismatch penalty\") and a gap (\"gap penalty\"), and uses these penalties in its calculations.\n",
    "\n",
    "Exciting, right??? Well, now it's your turn!"
   ]
  },
  {
   "cell_type": "markdown",
   "metadata": {},
   "source": [
    "1. Go to \"Alignment>Do Complete Alignment\"\n",
    "2. Provide a name for the output file for the guide tree, and the name for the final alignment\n",
    "3. Once you are ready, hit \"OK\", and take a look at the alignment!\n",
    "4. **Question:** How does the alignment look? Do you see any noticeable errors?"
   ]
  },
  {
   "cell_type": "markdown",
   "metadata": {},
   "source": [
    "As you can see (hopefully), automated alignment can save a lot of time (imagine if you had to manually align 1,000 sequences!). However, sometimes some areas are incorrectly aligned, and so researchers will often \"manually refine\" their alignments.\n",
    "\n",
    "**Export the aligned sequences, in FASTA format - but give the output file a DIFFERENT NAME (otherwise it will overwrite a file).**\n",
    "\n",
    "**Now repeat for the other gene (but don't answer the questions again, just do the alignment!).**"
   ]
  },
  {
   "cell_type": "markdown",
   "metadata": {},
   "source": [
    "---\n",
    "##### Note: Changing Alignment Parameters\n",
    "Several parameters can be adjusted by going to \"Alignment>Alignment Parameters\", and then you choose what you'd like to adjust. For instance, you could choose \"Multiple Alignment Parameters\" and you will see a variety of parameters you can change.\n",
    "\n",
    "---"
   ]
  },
  {
   "cell_type": "markdown",
   "metadata": {},
   "source": [
    "#### MUSCLE (MUltiple Sequence Comparison by Log-Expectation)\n",
    "\n",
    "It may seem redundant to examine another program, but it's important to know that many programs calculate alignments differently and perform well in different situations. MUSCLE is a newer program that performs better than Clustal in some situations, but one downside is that it doesn't come with a nice GUI. We won't discuss how MUSCLE differs from Clustal, but you can see the original paper ([Edgar 2004](http://www.ncbi.nlm.nih.gov/pubmed/15034147)) if you are interested."
   ]
  },
  {
   "cell_type": "markdown",
   "metadata": {},
   "source": [
    "1. Go to www.drive5.com/muscle/downloads.htm.\n",
    "2. Select \"muscle3.8.31_i86darwin64.tar.gz\"\n",
    "3. This file we be placed in your downloads - move it to the directory that you made earlier\n",
    "4. Double-click on the file and it will generate an executable.\n",
    "5. Rename this executable file to \"muscle\". One way you could do this is in Terminal:\n",
    "```bash\n",
    "mv muscle3.8.31_i86darwin64 muscle\n",
    "#We used the `mv` command last week to move a file into a directory, but you can also use it to rename files if the second item is not a directory!\n",
    "```\n",
    "\n",
    "6. Open Terminal, if it isn't open already. Check to make sure you are in the correct working directory, and change the directory if you aren't.\n",
    "7. We don't have Administrator access, so we have to specify the MUSCLE file using \"`./`\". So, enter this command:\n",
    "```bash\n",
    "./muscle\n",
    "```\n",
    "This provides a list of paramaters that you can use to run MUSCLE. All you _need_ is an input FASTA file with sequences, and an output file name. So type:\n",
    "```bash\n",
    "./muscle -in wg_clean.fasta -out wg_clean.afa\n",
    "```\n",
    "The file with aligned sequences will now be placed in your working directory (the \".afa\" stands for \"aligned FASTA\").\n",
    "\n",
    "8. Repeat for the LWRh gene."
   ]
  },
  {
   "cell_type": "markdown",
   "metadata": {},
   "source": [
    "**Open both the exported Clustal file (from above) and the MUSCLE-aligned file in Mesquite**.\n",
    "\n",
    "- **Question**: How do the two aligned datasets for wingless (wg) compare? Do you see any differences? If so, where?"
   ]
  },
  {
   "cell_type": "markdown",
   "metadata": {},
   "source": [
    "##### Practice\n",
    "Now try using MUSCLE to **align the sequences in \"Malia_et_al_2002.fasta\"** (available on the [course website](https://sites.google.com/a/fieldmuseum.org/rtol/lab-exercises)). These sequences are from a growth hormone receptor gene in a diversity of mammals.\n",
    "\n",
    "Once you have exported the alignment (.afa file), look at the alignment in Mesquite.\n",
    "\n",
    "- **Question:** How does the clarity of this alignment compare to the aligned dataset for the wingless (wg) gene in ants? Why do you think this is?"
   ]
  },
  {
   "cell_type": "markdown",
   "metadata": {},
   "source": [
    "### Aligning Protein-Coding Genes"
   ]
  },
  {
   "cell_type": "markdown",
   "metadata": {},
   "source": [
    "Look again at the aligned ant sequences for Wingless (wg) from the MUSCLE alignment, and try to make them even better with manual alignment. How do you feel about the alignment? Are there any sites that could be aligned differently? For example, why is the cytosine at position 97 in _P. concolor_ not instead at position 94? How arbitrary!!! Wouldn't it be nice if we had addtional information to resolve these situations? Oh wait..... we do!\n",
    "\n",
    "Wingless (wg) and Long_Wave Rhodopsis (LWRh) are both protein-coding genes, and it can be much easier to align sequences by amino acids rather than nucleotides. (Do you know why this is true? Think about what level selection acts on when it comes to proteins.) We will do this in Mesquite.\n",
    "\n",
    "1. Load the aligned sequences for wingless (wg) into Mesquite.\n",
    "2. Go to the \"Characters\" menu in Mesquite.\n",
    "3. Select \"List of Characters\".\n",
    "4. Click on the arrow above where it says \"Character\", and select \"Select All Characters\".\n",
    "5. Go over to the \"Codon Position\" column and click the little arrow at the top.\n",
    "6. Go to \"Set Codon Position\" and chose \"123123...\" to desginate the first base as codon position 1 (which may not be correct, but we will see in a moment).\n",
    "7. Go back to the character matrix, and go to \"Characters>Make New Matrix from>Translate DNA to Protein\", and take a look at this matrix of codons. Black indicates a stop codon.\n",
    "8. **Question:** Do you think this is the right codon positioning? Why or why not?\n",
    "9. Try it with \"231231...\" and \"312312...\".\n",
    "10. **Question:** What codon position is the first base in the sequence?\n",
    "11. Now manually align these DNA sequences using the amino acids, if needed.\n",
    "12. **Question:** Was this alignment easier?\n"
   ]
  },
  {
   "cell_type": "markdown",
   "metadata": {},
   "source": [
    "**Now check out the aligned Malia et al. (2002) sequences and try to figure out what the codon positions are.**"
   ]
  },
  {
   "cell_type": "markdown",
   "metadata": {},
   "source": [
    "- **Question:** At which site does the gene start? Remember that methionines (M) act as start codons, and that some of these sequences are only _partial_ cds)."
   ]
  },
  {
   "cell_type": "markdown",
   "metadata": {},
   "source": [
    "---\n",
    "##### Hyopthetical\n",
    "\n",
    "Imagine you generated a sequence for a protein-coding gene by PCRing genomic DNA. You are trying to align it to some other sequences and the amino acids align very well. But all of a sudden, your new sequence deviates sharply from the other sequences and you cannot find any homology. Additionally, you see a stop codon in this area that differs greatly from the rest of the sequences.\n",
    "\n",
    "- **Question**: What do you think has happened here?\n",
    "\n",
    "---"
   ]
  },
  {
   "cell_type": "markdown",
   "metadata": {},
   "source": [
    "For more information on aligning nucleotides by amino acids in Mesquite, see [here](http://mesquiteproject.wikispaces.com/Managing+Molecular+Data#managing).\n",
    "\n",
    "We will use the aligned sequences to infer trees next week, so make sure you have good alignments for both ant genes!\n",
    "\n",
    "### Email Me (bblanchard@uchicago.edu)\n",
    "\n",
    "1. Lab file with answered questions\n",
    "2. Exported alignment file for **both genes** from Clustal alignment\n",
    "3. Output alignment file for **both genes** from MUSCLE alignment\n",
    "4. Alignment file from the Malia et al. 2002 data\n",
    "\n"
   ]
  }
 ],
 "metadata": {
  "kernelspec": {
   "display_name": "Python 3",
   "language": "python",
   "name": "python3"
  },
  "language_info": {
   "codemirror_mode": {
    "name": "ipython",
    "version": 3
   },
   "file_extension": ".py",
   "mimetype": "text/x-python",
   "name": "python",
   "nbconvert_exporter": "python",
   "pygments_lexer": "ipython3",
   "version": "3.6.2"
  }
 },
 "nbformat": 4,
 "nbformat_minor": 1
}
