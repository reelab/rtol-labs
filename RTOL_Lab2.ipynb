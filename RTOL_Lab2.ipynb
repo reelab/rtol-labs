{
 "cells": [
  {
   "cell_type": "markdown",
   "metadata": {},
   "source": [
    "# Lab 2: Homology and Sequence Alignment\n",
    "![apples and oranges](http://steelcityanesthesia.com/wp-content/uploads/2015/04/ApplesAndOranges_Part2Blog_20150407.png)\n",
    "\n",
    "## Objectives\n",
    "\n",
    "* Manually align DNA sequences using Mesquite\n",
    "* Automatically align sequences using Clustal and MUSCLE\n",
    "* Use codon positions to guide alignment\n",
    "\n",
    "## Introduction\n",
    "\n",
    "Last week, you learned how to download sequences from GenBank. This week, you will learn how to **align** them.\n",
    "\n",
    "As covered in lecture, the goal of **alignment** is to establish the **homology** of nucleotide (or amino acid) positions across the \"terminal taxa\" (a.k.a. operational taxonomic units, or OTUs) -- the individuals, populations, or species represented by the sequences of interest.\n",
    "\n",
    "> ***site***: the position of an individual nucleotide or amino acid in a sequence, or column in an alignment\n",
    "\n",
    "Establishing homology is a critical step, because inferring phylogeny rests on the assumption that species' differences at a site reflect _ancestor-descendant evolutionary change_ (Darwin's \"descent with modification\"). That is, homologous sites in 2 species should trace their ancestry to the same site in the genome of their common ancestor. We don't want to compare apples and oranges! (Actually, this idiom doesn't work here: apples and oranges are, in fact, homologous in the sense that developmentally, they are both the gynoecium of the flower.)\n",
    "\n",
    "Recall that variation in homologous sequences arises from 2 basic processes:\n",
    "\n",
    "1. **substitution**\n",
    "  * an ancestral nucleotide (or amino acid) is replaced by a different, derived one\n",
    "  * the length of the sequence does not change\n",
    "2. **insertions and deletions (\"indels\")**\n",
    "  * the addition and removal, respectively, of sites from a sequence\n",
    "  * possible causes include:\n",
    "    * DNA polymerase slippage\n",
    "\t* unequal crossing over\n",
    "\t* transposons\n",
    "  * the length of the sequence changes (obviously)\n",
    "\n",
    "In general, the more that sequences vary, the more difficult it is to align them.\n",
    "\n",
    "## 1. Manual alignment\n",
    "\n",
    "Last week, we downloaded sequences of the _wingless_ (wg) and long-wavelength rhodopsin (LWRh) genes for 43 species of ants, and saved them as FASTA files.\n",
    "\n",
    "### Mesquite \n",
    "\n",
    "<img src=\"http://www.alexanderwild.com/Ants/Taxonomic-List-of-Ant-Genera/Pseudomyrmex/i-ZHW3q3f/1/XL/termitarius1-XL.jpg\" style=\"float: left; width: 32%; margin-right: 1%; margin-bottom: 0.5em;\"><img src=\"http://www.alexanderwild.com/Ants/Taxonomic-List-of-Ant-Genera/Tetraponera/i-xFN6H3M/1/XL/mocquerysi2-XL.jpg\" style=\"float: left; width: 30%; margin-right: 1%; margin-bottom: 0.5em;\"><img src=\"http://www.alexanderwild.com/Ants/Taxonomic-List-of-Ant-Genera/Pseudomyrmex/i-8HRhKCf/1/XL/gracilis7-XL.jpg\" style=\"float: left; width: 30%; margin-right: 1%; margin-bottom: 0.5em;\"><p style=\"clear: both;\">\n",
    "\n",
    "[Mesquite](http://mesquiteproject.wikispaces.com) is a modular program for evolutionary analyses, emphasizing phylogenetics. It features a graphical user interface (GUI) for tasks such as sequence alignment, constructing and testing models of trait evolution, and visualizing trees. In this lab, we will use it to import, visualize, and manually align DNA sequences."
   ]
  },
  {
   "cell_type": "markdown",
   "metadata": {},
   "source": [
    "---\n",
    "<img style=\"float: right;\" src=\"http://www.reelab.net/todo.png\">\n",
    "\n",
    "1. Open Mesquite (This can take a bit. Patience comes to those who wait.)\n",
    "2. Open the _wingless_ file `wg.fasta`\n",
    "3. A window will appear asking for the file format - select the correct format, and click **OK**.\n",
    "4. Now it will ask you to to save the file in NEXUS format. It's conventional to use `.nex` as the extension for NEXUS files. So, enter `wg.nex` (or accept the default `wg.fasta.nex`) and click **Save**.\n",
    "5. If the DNA sequence matrix doesn't show automatically, click on **Character Matrix** and select **Show Matrix**.\n",
    "6. Scroll around to look at the sequences, and notice that they are not aligned perfectly.\n",
    "\n",
    "---"
   ]
  },
  {
   "cell_type": "markdown",
   "metadata": {},
   "source": [
    "Mesquite has several tools that you can use to help manually align sequences. Explore the tools in the pane just left of the sequence names.\n",
    "\n",
    "***ADD SCREENSHOTS OF TOOLS***\n",
    "\n",
    "- _Add Characters_: You can add a gap character between any two characters or at the end of the sequences.\n",
    "\n",
    "- _Push Sequence_: Used to push sequences left or right. This can only be used if there are gaps in the sequence. \n",
    "\n",
    "- _Multiple Sequence Splitter_: You can draw a vertical line to \"split\" multiple sequences and then move the split sequences in blocks.\n",
    "\n",
    "- _Move Blocks_: Used to move parts of a single sequence either by pushing the whole sequence or splitting between two bases.\n",
    "\n",
    "- _Multiple Sequence Move Blocks_: You can highlight multiple sequences and then move them as with the single sequence \"Move Blocks\" tool.\n",
    "\n",
    "Remember, the only way to move a sequence around is into gaps, so for example if you need to move an entire sequence to the right, it needs to have a gap of empty sites at the end."
   ]
  },
  {
   "cell_type": "markdown",
   "metadata": {},
   "source": [
    "---\n",
    "\n",
    "<img style=\"float: right;\" src=\"http://www.reelab.net/todo.png\">\n",
    "\n",
    "Familiarize yourself with these tools, and then **manually align the sequences to one another**. There are a few places that need alignment.\n",
    "\n",
    "**Questions:**\n",
    "1. Are conserved areas and variable sites evenly distributed? If not, what variation do you see?\n",
    "\n",
    "2. Did you encounter any areas where it was difficult to determine the position of a certain base or group of bases? If you did, do you think these should be included in the phylogenetic analyses? Why or why not?\n",
    "\n",
    "3. What kind of feeling does manual alignment give you?"
   ]
  },
  {
   "cell_type": "markdown",
   "metadata": {
    "collapsed": true
   },
   "source": [
    "### Automated Alignment - Clustal and MUSCLE\n",
    "\n",
    "If your data set is small or contains little variation across taxa, there may really be no need for automated alignment. In most cases, however, datasets are so large and/or variable that it's best to produce an automated starting alignment that you can then manually refine. Today, you will get a feel for two of the most popular automated alignment programs: Clustal and MUSCLE.\n",
    "\n",
    "---\n",
    "#### Clustal\n",
    "\n",
    "<img src=\"http://www.clustal.org/images/clustalo_big.png\" style=\"float: right; width: 20%\">\n",
    "\n",
    "Clustal comes in two flavors. ClustalX comes with a GUI (Graphical User Interface), meaning it has menus and is easy to visualize. ClustalW does _not_ have a GUI, and commands must be entered directly in the command line (like you did earlier in Terminal). The alignment algorithm for both programs is the same, but today we will just work with ClustalX."
   ]
  },
  {
   "cell_type": "markdown",
   "metadata": {},
   "source": [
    "---\n",
    "\n",
    "<img style=\"float: right;\" src=\"http://www.reelab.net/todo.png\">\n",
    "\n",
    "1. Go to <http://www.clustal.org/download/current>, and download **clustalx-2.1-macosx.dmg**.\n",
    "2. Once it is in the Downloads folder, double click on it, then open \"ClustalX\".\n",
    "3. Load your unaligned sequences by going to \"File>Load Sequences\" and selecting the file. You should now see a screen that resembles Mesquite (colors!).\n",
    "4. **Question:** Along the top, you should see asterisks at some sites. What does an astrisk above a site indicate?\n",
    "\n",
    "---"
   ]
  },
  {
   "cell_type": "markdown",
   "metadata": {},
   "source": [
    "Along the bottom, you will notice what looks like a histogram (bar chart) - these are the \"alignment quality scores\" for each character/position. Loosely speaking, sites with higher scores will be more \"conserved\", i.e., less variable across the sampled taxa.\n",
    "\n",
    "Now it's time to perform a multiple alignment. At the top, next to the **Mode** tab, there is the option of performing a \"multiple\" or \"profile\" alignment. The latter is for aligning alignments to each other. Since we are making one de novo, choose \"multiple alignment\".\n",
    "\n",
    "This process has three steps:\n",
    "\n",
    "1. For every pair of sequences, align them (do a _pairwise alignment_) and create a **distance matrix** of the differences (mismatches) between aligned pairs.\n",
    "2. Reconstruct a simple tree from the distance matrix.\n",
    "3. Use this as a **guide tree** for the alignment:\n",
    "  - Begin by aligning sequences with greatest similarity (closest branch tips)\n",
    "  - Iteratively align more diverged sequences by traversing the guide tree\n",
    "\n",
    "So, how does the program actually determine alignments as it goes along? Yep, you guessed it! By trying to minimize the number of mismatches and gaps, thereby creating an \"optimal\" alignment. The program gives a certain penalty score to both a mismatch (\"mismatch penalty\") and a gap (\"gap penalty\"), and uses these penalties in its calculations.\n",
    "\n",
    "Exciting, right??? Well, now it's your turn!"
   ]
  },
  {
   "cell_type": "markdown",
   "metadata": {},
   "source": [
    "---\n",
    "<img style=\"float: right;\" src=\"http://www.reelab.net/todo.png\">\n",
    "1. Go to \"Alignment>Do Complete Alignment\"\n",
    "2. Provide a name for the output file for the guide tree, and the name for the final alignment\n",
    "3. Once you are ready, hit \"OK\", and take a look at the alignment!\n",
    "4. **Question:** How does the alignment look? Do you see any noticeable errors?\n",
    "---"
   ]
  },
  {
   "cell_type": "markdown",
   "metadata": {},
   "source": [
    "As you can see (hopefully), automated alignment can save a lot of time (imagine if you had to manually align 1,000 sequences!). However, sometimes the algorithms don't perform adequately, and researchers will see the need to refine their automated alignments manually, in programs like Mesquite."
   ]
  },
  {
   "cell_type": "markdown",
   "metadata": {},
   "source": [
    "---\n",
    "<img style=\"float: right;\" src=\"http://www.reelab.net/todo.png\">\n",
    "\n",
    "**Export the aligned sequences, in FASTA format - but give the output file a DIFFERENT NAME (otherwise it will overwrite a file).**\n",
    "\n",
    "> Aligned sequences are commonly given filenames with `.aln`. So you could name the wingless alignment `wg.aln.fasta`.\n",
    "\n",
    "**Now repeat for the other gene (but don't answer the questions again, just do the alignment!).**\n",
    "\n",
    "---"
   ]
  },
  {
   "cell_type": "markdown",
   "metadata": {},
   "source": [
    "> ***Changing Alignment Parameters***:\n",
    "Several parameters can be adjusted by going to _Alignment_ > _Alignment Parameters_. If you are curious, change some of the Multiple Alignment Parameters and re-run Clustal, and note any differences.\n",
    "\n",
    "---"
   ]
  },
  {
   "cell_type": "markdown",
   "metadata": {},
   "source": [
    "#### MUSCLE (MUltiple Sequence Comparison by Log-Expectation)\n",
    "\n",
    "<img src=\"http://icons.iconarchive.com/icons/iconshow/medical/256/Muscles-icon.png\" style=\"float: right; width: 20%\">\n",
    "\n",
    "There are [many alignment programs to choose from](https://en.wikipedia.org/wiki/List_of_sequence_alignment_software#Multiple_sequence_alignment), each with particular strengths and weaknesses. MUSCLE is newer than Clustal and runs much faster, especially on large alignments. However, it doesn't come with a nice GUI. If you are curious about how MUSCLE differs from Clustal, here is the original paper: [Edgar, 2004](http://www.ncbi.nlm.nih.gov/pubmed/15034147)."
   ]
  },
  {
   "cell_type": "markdown",
   "metadata": {},
   "source": [
    "---\n",
    "<img style=\"float: right;\" src=\"http://www.reelab.net/todo.png\">\n",
    "\n",
    "1. Go to <http://www.drive5.com/muscle/downloads.htm>\n",
    "2. Download the archive for MacOS X Intel 64.\n",
    "3. Double-click on the file and extract the executable (`muscle3.8.31_i86darwin64`) to your working directory.\n",
    "5. For convenience, rename this executable file `muscle`. One way you could do this is in Terminal:\n",
    "```bash\n",
    "mv muscle3.8.31_i86darwin64 muscle\n",
    "```\n",
    "6. Open Terminal, if it isn't open already. Check to make sure you are in the correct working directory, and change the directory if you aren't.\n",
    "7. To run the executable from the current directory, recall that you need to specify its location using \"`./`\". So, enter this command:\n",
    "```bash\n",
    "./muscle\n",
    "```\n",
    "This provides a list of paramaters that you can use to run MUSCLE. All you _need_ is an input FASTA file with sequences, and an output file name. So type:\n",
    "```bash\n",
    "./muscle -in wg.fasta -out wg.afa\n",
    "```\n",
    "> ***Note:*** the file extension \"`.afa`\" is sometimes used for alignments, and stands for \"aligned FASTA\".\n",
    "\n",
    "8. Repeat for the LWRh gene.\n",
    "9. For each gene, open both the Clustal alignment and the MUSCLE alignment in Mesquite.\n",
    "  - **Question**: How do the two aligned datasets for wingless (wg) compare? Do you see any differences? If so, where?\n",
    "\n",
    "---"
   ]
  },
  {
   "cell_type": "markdown",
   "metadata": {},
   "source": [
    "<img style=\"float: right;\" src=\"http://www.reelab.net/todo.png\">\n",
    "##### Practice\n",
    "Now try using MUSCLE to **align the sequences in `Malia_et_al_2002.fasta`** (available on the [course website](https://sites.google.com/a/fieldmuseum.org/rtol/lab-exercises)). These are sequences of a growth hormone receptor gene from a range of mammals.\n",
    "\n",
    "Look at the alignment in Mesquite. How does it compare to the _wingless_ alignment from ants? Why do you think this is?\n",
    "\n",
    "---"
   ]
  },
  {
   "cell_type": "markdown",
   "metadata": {},
   "source": [
    "### Aligning Protein-Coding Genes\n",
    "\n",
    "Look again at the _wingless_ MUSCLE alignment, and try to improve it by manual adjustment. Are there any sites that you think could be aligned differently? For example, why is the cytosine at position 97 in _P. concolor_ not instead at position 94?\n",
    "\n",
    "Wouldn't it be nice if we had addtional information to help resolve ambiguities... Oh wait, we do!\n",
    "\n",
    "_Wingless_ and long-wave rhodopsin are both **protein-coding** genes, which means that their nucleotide sequences are composed of triplets: the **codons of amino acids**. We will use this information in Mesquite."
   ]
  },
  {
   "cell_type": "markdown",
   "metadata": {},
   "source": [
    "---\n",
    "<img style=\"float: right;\" src=\"http://www.reelab.net/todo.png\">\n",
    "\n",
    "1. Load the _wingless_ alignment into Mesquite.\n",
    "2. Go to the **Characters** menu in Mesquite.\n",
    "3. Select **List of Characters**.\n",
    "4. Click on the arrow above where it says **Character**, and select **Select All Characters**.\n",
    "5. Go over to the **Codon Position** column and click the little arrow at the top.\n",
    "6. Go to **Set Codon Position** and chose **`123123...`** to desginate the first base as codon position 1 (which may not be correct, but we will see in a moment).\n",
    "7. Go back to the character matrix, and go to _Characters_ > _Make New Matrix from_ > _Translate DNA to Protein_, and take a look at this matrix of codons. Black indicates a stop codon.\n",
    "8. ***Question:*** Do you think this is the right codon positioning? Why or why not?\n",
    "9. Try it with **`231231...`** and **`312312...`**.\n",
    "10. ***Question:*** What codon position is the first base in the sequence?\n",
    "11. Now manually align these DNA sequences using the amino acids, if needed.\n",
    "12. ***Question:*** Is it easier to align the data as amino acids?\n",
    "\n",
    "---"
   ]
  },
  {
   "cell_type": "markdown",
   "metadata": {},
   "source": [
    "<img style=\"float: right;\" src=\"http://www.reelab.net/todo.png\">\n",
    "\n",
    "**Now check out the aligned Malia et al. (2002) sequences and try to figure out what the codon positions are.**\n",
    "\n",
    "- **Question:** At which site does the gene start? Remember that methionines (M) act as start codons, and that some of these sequences are incomplete (_partial cds_)."
   ]
  }
 ],
 "metadata": {
  "kernelspec": {
   "display_name": "Python 3",
   "language": "python",
   "name": "python3"
  },
  "language_info": {
   "codemirror_mode": {
    "name": "ipython",
    "version": 3
   },
   "file_extension": ".py",
   "mimetype": "text/x-python",
   "name": "python",
   "nbconvert_exporter": "python",
   "pygments_lexer": "ipython3",
   "version": "3.6.2"
  }
 },
 "nbformat": 4,
 "nbformat_minor": 1
}
