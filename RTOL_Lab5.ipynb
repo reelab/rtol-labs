{
 "cells": [
  {
   "cell_type": "markdown",
   "metadata": {},
   "source": [
    "# Lab 5: Ancestral State Reconstruction & Independent Contrasts"
   ]
  },
  {
   "cell_type": "markdown",
   "metadata": {},
   "source": [
    "<img src=\"http://www.alexanderwild.com/Ants/Natural-History/Ants-and-Plants/i-bzZ6sTP/2/XL/spinicola16-XL.jpg\" style=\"float: left; width: 49%; margin-left: 1%; margin-top: 1.39%; margin-bottom: 4%\"><img src=\"http://www.alexanderwild.com/Ants/Natural-History/Ants-and-Plants/i-NX9Gwb6/1/XL/Belize1-XL.jpg\" style=\"float: left; width: 49%; margin-right: 1%; margin-bottom: 4%\"><p style=\"clear: both;\">\n",
    "\n",
    "Phylogenetic trees are most interesting when they're used to infer processes of evolution beyond just how species are related to one another. Today, you will reconstruct ancestral states using parsimony and maximum likelihood methods to infer processes of trait evolution (specifically mutualism) in _Pseudomyrmex_. By the end of today, you will be able to:\n",
    "\n",
    "1. Reconstruct ancestral states using parsimony and likelihood.\n",
    "2. Use independent contrasts to determine whether two characters are correlated."
   ]
  },
  {
   "cell_type": "markdown",
   "metadata": {},
   "source": [
    "## R: Time Calibration\n",
    "\n",
    "In order to do the ancestral state reconstruction, you want the tree to be **ultrametric**, which means that there are equal root-to-tip path lengths for all lineages in your tree. In other words, if your tree is ultrametric, it means that all of the tips in your tree line up evenly."
   ]
  },
  {
   "cell_type": "markdown",
   "metadata": {},
   "source": [
    "---\n",
    "**Question:**\n",
    "- Why do you think you need an ultrametric tree to do ancestral state reconstruction?"
   ]
  },
  {
   "cell_type": "markdown",
   "metadata": {},
   "source": [
    "---\n",
    "**Open the maximum likelihood tree that you generated in _RAxML_ a couple weeks ago in _FigTree_** (on the course website). Notice how the terminal taxa are not lined up? In order to make your tree ultrametric, you have to shrink some branches and lengthen others based on some optimal rate of evolution that fits a model to the branch lengths that you calculated based on molecular substitution. Today, you will do this using the program _R_, which you may remember using way back in the first lab! Those were the days..."
   ]
  },
  {
   "cell_type": "markdown",
   "metadata": {},
   "source": [
    "Many biologists implement and share their work in _R_, meaning that there is a lot of pre-made software available for doing cool bio stuff. You can compile large amounts of code into _R_ scripts or work in the _R_ GUI going one command at a time like you do in _Terminal_, which you will do today.\n",
    "\n",
    "1. Open the _RStudio_ application (should be one of the big \"R\" applications at the bottom of your screen).\n",
    "2. First, you have to load the \"APE\" (Analysis of Phylogenetics and Evolution). You first have to download the package from a data repository called \"CRAN\", then load the package locally:\n",
    "```r\n",
    "install.packages(\"ape\")\n",
    "library(ape)\n",
    "```\n",
    "3. Now you have to change your working directory to the folder that has your tree file (downloaded from the course website). Remember, you can use the `setwd()` command, and unlike in _Terminal_ you have to use quotes (\"\") around your file path!\n",
    "\n",
    "4. Now loading the tree is simple, using the APE function `read.tree`:\n",
    "```r\n",
    "ant_tree <- read.tree(\"LWRh_wg.tree\")\n",
    "```\n",
    "\n",
    "5. Enter \"`ant_tree`\" to get a summary of the information contained in the tree.\n",
    "\n",
    "6. Now enter:\n",
    "```r\n",
    "plot(ant_tree)\n",
    "```\n",
    "\n",
    "Ooh, fancy! _R_ can be great for making very nice figures as is obvious from your ability to quickly display this tree. In R studio, you can also click \"Zoom\" in the plot pane to see a larger version that may be easier to read. You can also adjust a bunch of things about plots in R, which you will do a bit later.\n"
   ]
  },
  {
   "cell_type": "markdown",
   "metadata": {},
   "source": [
    "Now it's time to make the tree ultrametric, using `chronos`:\n",
    "\n",
    "1. Enter:\n",
    "```r\n",
    "ant_tree_ultra <- chronos(ant_tree)\n",
    "```\n",
    "2. Now plot the tree again!"
   ]
  },
  {
   "cell_type": "markdown",
   "metadata": {},
   "source": [
    "You should see that now all the tips line up (i.e. the tree is ultrametric!). `chronos` does this by using certain parameters and an algorithm to convert a tree with nucleotide substitution information into an ultrametric tree. You don't need to know about these parameters right now, but just know that it is possible for the user to adjust them! "
   ]
  },
  {
   "cell_type": "markdown",
   "metadata": {},
   "source": [
    "## R: Ancestral State Reconstruction - Parsimony\n",
    "\n",
    "\n",
    "<img src=\"http://2.bp.blogspot.com/-jt_Jc13EZqc/UUoqO_hjbrI/AAAAAAAACC0/gMp44Wg2ZDI/s1600/lik.anc2.png\" style=\"float: left; width: 40%; margin-left: 5%\"><img src=\"http://www.alexanderwild.com/Ants/Making-a-Living/Arboreal-Ants/i-5Fhfx4P/2/XL/spinicola10-XL.jpg\" style=\"float: left; width: 25%; margin-right: 1%\"><p style=\"clear: both;\">"
   ]
  },
  {
   "cell_type": "markdown",
   "metadata": {},
   "source": [
    "Now that you have your gorgeous ultrametric tree, it's time to start mapping traits on the tree and inferring things about trait evolution! But you also need to import the character information for the terminal taxa for reconstructing ancestral states.  **Open the trait file in _TextEdit_**. This is a simple matrix of characters for a number of species in the genus. Most of them are morphological measurements, but the first two columns indicate whether the species is symbiotic with plants (0=no, 1=nests mutualistically, 2=nests parasitically). You want to reconstruct ancestral states for mutualism so that you can understand how this behavior has evolved within _Pseudomyrmex_.\n",
    "\n",
    "1. Make sure the text file of traits from the course website (\"pseudomyrmex_characters_pruned.txt\") in your working directory (if it's not, you can move it to the directory manually).\n",
    "2. For ease of typing, change the name of your tree back to `ant_tree`:\n",
    "```r\n",
    "ant_tree <- ant_tree_ultra\n",
    "```\n",
    "3. To load the table of characters in _R_, enter:\n",
    "```r\n",
    "traits <- read.table(\"pseudomyrmex_characters_pruned.txt\",header=TRUE)\n",
    "```\n",
    "The \"header=TRUE\" item tells _R_ that the first row of the file contains the names of the columns and is not data itself.\n",
    "4. Enter \"`traits`\" to see the table within _R_.\n",
    "5. You want to put mutualism character information into a form easily transferable to the tree and with the correct names corresponding to taxa in the tree, so enter:\n",
    "```r\n",
    "mut_data <- traits$Mutualists\n",
    "names(mut_data) <- row.names(traits)\n",
    "```\n",
    "6. Check to make sure everything looks good by entering `mut_data`. You should see all the taxa with a corresponding 0 or 1 indicating mutualism.\n",
    "7. There are several polytomies in your tree, which unfortunately the APE package doesn't like. So, to \"prune\" (get rid of) some taxa, and also drop all but one of the outgroups, execute this command (feel free to copy-paste):\n",
    "```r\n",
    "new_ant_tree <- drop.tip(ant_tree, c(\"P.mixtecus\",\"P.flavicor\",\"P.peperi\",\"P.spinicol\",\"P.kuenckel\",\"P.veneficu\",\"T.pilosa\",\"T.rufonigr\",\"T.aethiops\"))\n",
    "```\n",
    "8. Now display this new tree with reduced taxa:\n",
    "```r\n",
    "plot(new_ant_tree)\n",
    "```\n",
    "Notice the absence of polytomies!\n",
    "9. To make your tree look _really_ purty, enter the following (copy-paste):\n",
    "\n",
    "```bash\n",
    "new_ant_tree[6] <- \"tip.state\"\n",
    "new_ant_tree$tip.state <- traits$Mutualists\n",
    "names(new_ant_tree$tip.state) <- rownames(traits)\n",
    "new_ant_tree$tip.state <- new_ant_tree$tip.state[new_ant_tree$tip.label]\n",
    "state1 <- row(matrix(new_ant_tree$tip.label))[new_ant_tree$tip.state == 1]\n",
    "state0 <- row(matrix(new_ant_tree$tip.label))[new_ant_tree$tip.state == 0]\n",
    "plot(new_ant_tree, label.offset = 0.02)\n",
    "tiplabels(tip = state1, pch = 21, cex = .9, bg = 'red')\n",
    "tiplabels(tip = state0, pch = 21, cex = .9, bg = 'yellow')\n",
    "```"
   ]
  },
  {
   "cell_type": "markdown",
   "metadata": {},
   "source": [
    "This looks complicated, and perhaps is a bit, but it is a great way to label the tips of your tree with states and permanently associate the tip states with specific taxa."
   ]
  },
  {
   "cell_type": "markdown",
   "metadata": {},
   "source": [
    "---\n",
    "**Question**: What do the red dots represent? What do the yellow dots represent?"
   ]
  },
  {
   "cell_type": "markdown",
   "metadata": {},
   "source": [
    "---\n",
    "Now time for the ancestral trait reconstruction! You will start with a most parsimonious reconstruction:\n",
    "\n",
    "1. The APE package only accepts unrooted trees for parsimony reconstructions, so enter:\n",
    "```\n",
    "unrooted_tree = unroot(new_ant_tree)\n",
    "```\n",
    "2. Now run the ancestral state reconstruction:\n",
    "```\n",
    "pars_anc <- MPR(unrooted_tree$tip.state,unrooted_tree,\"M.epichari\")\n",
    "```\n",
    "You will get a warning - that is ok!\n",
    "3. \"`pars_anc`\" will include the reconstructed states at each node. Before displaying this, you have to trim the remaining outgroup taxon, and display the tree with node labels:\n",
    "```r\n",
    "new_ant_tree <- drop.tip(unrooted_tree,\"M.epichari\")\n",
    "plot(new_ant_tree, label.offset = 0.02)\n",
    "tiplabels(tip = state1, pch = 21, cex = 0.9, bg = 'red')\n",
    "tiplabels(tip = state0, pch = 21, cex = 0.9, bg = 'yellow')\n",
    "nodelabels(pie = pars_anc[,1],piecol = c('red','yellow'),cex=0.5)\n",
    "```\n"
   ]
  },
  {
   "cell_type": "markdown",
   "metadata": {},
   "source": [
    "Voila! The node labels are pie charts that indicate the probability of each state at that node. Because this is a parsimony reconstruction, the nodes are 100% one state or the other. The pie charts become more relevant for the likelihood reconstruction."
   ]
  },
  {
   "cell_type": "markdown",
   "metadata": {},
   "source": [
    "---\n",
    "**QUESTIONS:**\n",
    "- According to this parsimony ancestral state reconstruction, how many times did mutualism **independently** evolve?\n",
    "- Are there any inferred losses of mutualism?"
   ]
  },
  {
   "cell_type": "markdown",
   "metadata": {},
   "source": [
    "## R: Ancestral State Reconstruction - Likelihood\n",
    "\n",
    "With the tree already reformatted and all, running the likelihood reconstruction is now rather straightforward. First, you have to do a quick reassignment of the data to the tips, so enter:\n",
    "\n",
    "```bash\n",
    "new_ant_tree$tip.state <- new_ant_tree$tip.state[1:33]\n",
    "```\n",
    "\n",
    "Now you will reconstruct ancestral states using the \"`ace`\" function in APE using two basic models for reconstructing ancestral states. First, you specify the one-rate \"Mk1\" model with the \"`matrix(c(0,1,1,0),2)`\", which indicates that transition rates are equal (i.e. the rate from state 0 to state 1 is the same as the rate from state 1 to state 0). Similarly, you can specify a two-rate model with \"`matrix(c(0,1,2,0),2)`\", where these two transition rates are _not_ constrained to be equal.\n",
    "\n",
    "1. For the one-rate model, enter the following:\n",
    "```r\n",
    "anc_mk1 <- ace(new_ant_tree$tip.state,new_ant_tree,type='discrete',model=matrix(c(0,1,1,0),2))\n",
    "```\n",
    "\n",
    "2. Then display the results: \n",
    "```r\n",
    "nodelabels(pie=anc_mk1$lik.anc,piecol=c(\"yellow\",\"red\"),cex=0.5)\n",
    "```\n",
    "3. Now try the two-rate model! Enter:\n",
    "\n",
    "```r\n",
    "anc_mk2 <- ace(new_ant_tree$tip.state,new_ant_tree,type='discrete',model=matrix(c(0,1,2,0),2))\n",
    "\n",
    "nodelabels(pie=anc_mk2$lik.anc, piecol=c(\"yellow\", \"red\"), cex=0.5)\n",
    "```"
   ]
  },
  {
   "cell_type": "markdown",
   "metadata": {},
   "source": [
    "---\n",
    "**Questions:**\n",
    "- Do the results for the two different rate models differ? If so, describe the difference.\n",
    "- Why do you think the results could differ between the one-rate and two-rate models? Which rate model do you think is a closer match to what actually happens in reality? Why?"
   ]
  },
  {
   "cell_type": "markdown",
   "metadata": {},
   "source": [
    "## R: Independent Contrasts\n",
    "\n",
    "You can also use _R_ to analyze phylogenetically independent contrasts (PIC), which means removing the effects of phylogenetic relatedness when determining if traits are correlated. Traits can seem \"correlated\" when in fact they are merely associated among taxa that are all closely related, due to common ancestry. So you want to account for this relatedness using PIC.\n",
    "\n",
    "1. Look at the \"pseudomyrmex_characters_pruned.txt\" file in _TextEdit_ to see the names of a number of morphological traits (e.g. N3, N4, REL, HW, PL).\n",
    "2. You can plot characters against each other, for e.g. head length (HL) and head width (HW), using:\n",
    "\n",
    "```bash\n",
    "plot(traits$HL,traits$HW)\n",
    "```\n",
    "3. You can see a very strong correlation between these traits (unsurprisingly). But you want to control for phylogeny using PIC:\n",
    "\n",
    "```bash\n",
    "HL <- traits$HL\n",
    "names(HL) <- row.names(traits)\n",
    "contrastHL <- pic(HL,new_ant_tree)\n",
    "HW = traits$HW\n",
    "names(HW) <- row.names(traits)\n",
    "contrastHW <- pic(HW,new_ant_tree)\n",
    "\n",
    "plot(contrastHL,contrastHW)\n",
    "```"
   ]
  },
  {
   "cell_type": "markdown",
   "metadata": {},
   "source": [
    "**Questions:**\n",
    "- Do you still see a strong correlation using PIC?\n",
    "- If so, what does this indicate?"
   ]
  },
  {
   "cell_type": "markdown",
   "metadata": {},
   "source": [
    "## Mesquite: Ancestral State Reconstruction - Parsimony\n",
    "<img src=\"http://mesquiteproject.org/mesquite0.992/Mesquite_Folder/docs/mesquite/AncestralStates/images/anceStates.jpg\" style=\"float: left; width: 45%; margin-left: 1%\"><img src=\"http://www.alexanderwild.com/Ants/Taxonomic-List-of-Ant-Genera/Pseudomyrmex/i-xSGJtMh/1/XL/peperi8-XL.jpg\" style=\"float: left; width: 48%; margin-right: 1%\"><p style=\"clear: both;\">"
   ]
  },
  {
   "cell_type": "markdown",
   "metadata": {},
   "source": [
    "You can also use _Mesquite_ to run ancestral state reconstructions, and this can sometimes be an easier way to visualize the results.\n",
    "\n",
    "1. Open _Mesquite_ and load the file \"LWRh_wg_ultra_chars.nex\" (from the course website)\n",
    "2. Click \"Imported trees>View Trees\" on the left-hand side.\n",
    "3. Now in the tree window, to get rid of the support values so the tree looks nicer: Display>Names>Show Branch Names\n",
    "4. Show branch lengths on the tree: Display>Branch Proportional to Lengths\n",
    "5. Now, to show ancestral states using parsimony: Analysis>Trace Character History\n",
    "6. Choose \"Parsimony Ancestral States\", then \"Mutualism\".\n",
    "7. **Question:** How many steps (changes in character states) are necessary in the most parsimonious ancestral state reconstruction?"
   ]
  },
  {
   "cell_type": "markdown",
   "metadata": {},
   "source": [
    "You have weighted changes in behavior equally. However, you can edit the step matrix to penalize some changes more than others. For instance, you may think that changes in one direction might be quite easy, but a change in the reverse direction may be extremely unlikely. To edit this:"
   ]
  },
  {
   "cell_type": "markdown",
   "metadata": {},
   "source": [
    "1. Go to Characters>New Character Model>Step (Cost) Matrix\n",
    "2. Create a name for this new step matrix.\n",
    "3. A massive step matrix will appear. To prune this down to the number of character steps actually present, go to: Step Matrix>Set Maximum State.\n",
    "4. You have two character states, and the \"maximum state\" refers to the highest state number you have assigned, in this case \"1\" (you have states 0 and 1).\n",
    "5. Change the step matrix values by clicking on the \"edit\" tool to the left of the step matrix (below the arrow), and then edit the matrix. See the cells with a \"1\"? These mean that the changes from state 0 to 1, and from state 1 to 0, both \"cost\" 1 step. Change these values so that one rate is more costly than the other, and see how this changes the parsimony of the tree.\n",
    "6. After making changes, go back to the tree, and go to: Trace>Parsimony model.\n",
    "7. Choose your new model."
   ]
  },
  {
   "cell_type": "markdown",
   "metadata": {},
   "source": [
    "**Questions:**\n",
    "- Has the ancestral state reconstruction changed?\n",
    "- If so, how, and how many steps are now required?"
   ]
  },
  {
   "cell_type": "markdown",
   "metadata": {},
   "source": [
    "## Mesquite: Ancestral State Reconstruction - Likelihood\n",
    "\n"
   ]
  },
  {
   "cell_type": "markdown",
   "metadata": {},
   "source": [
    "Like with the APE package, you have to prune the 0-length branches (polytomies) before performing likelihood reconstructions in _Mesquite_.\n",
    "\n",
    "1. The taxa causing the problem are in the largest mutualistic group. Click the scissor tool for pruning taxa and remove _P. peperi_, _P.flavicor_, and _P. mixtecus_. You need to click on the branch leading to each individual taxon.\n",
    "2. Now go to: Trace>Reconstruction Method>Likelihood Ancestral States>Stored Probability Model>Mk1 (this is the symmetric 1-parameter model)\n",
    "3. Change the tree form: Display>Tree Form>Balls and Sticks. Now pie charts are over each node showing the proportional likelihood for each character state at that node.\n",
    "4. **Question:** You should see a small \"Trace Character\" window. What is the -log likelihood value for the fit of this data to the model?\n",
    "5. Now change the model to the asymmetric 2-parameter model: Analysis>Trace Character History>Likelihood Ancestral States>Stored Probability Model>Mutualism>Asymm. 2 param.\n",
    "6. **Question:** A second \"Trace Character\" window has appeared for the \"Asymm. 2 param.\" model. What is the -log likelihood value?"
   ]
  },
  {
   "cell_type": "markdown",
   "metadata": {},
   "source": [
    "But which model is best? Like last week, you can do model testing, but instead of using the AIC, you can use the Likelihood Ratio Test (LRT):\n",
    "1. Note the likelihood under the Mk1 model and the likelihood under the asymmetric 2-parameter model.\n",
    "2. Multiply the difference between these two likelihoods by 2.\n",
    "3. Take the absolute value of this and look up this value in a table of critical values (with 1 degree of freedom, because the two models differ by one parameter). See [here](https://malouffapbioblog.files.wordpress.com/2013/05/table-1.jpg) for a table. If it is **larger** than the value listed under \"0.05\" (3.84), then the difference between the two models is **significant**. If it is **smaller**, then there is no significant difference in likelihood between the models."
   ]
  },
  {
   "cell_type": "markdown",
   "metadata": {},
   "source": [
    "---\n",
    "**Questions:**\n",
    "- What value did you get for the LRT (difference between the two likelihoods)?\n",
    "- Which model is favored? Remember, one model has two parameters, and the other has one."
   ]
  },
  {
   "cell_type": "markdown",
   "metadata": {},
   "source": [
    "## Email Me (bblanchard@uchicago.edu)\n",
    "- Completed lab file (in .ipynb format, w/your name(s) in the file name)\n",
    "- And that's it for this week!"
   ]
  }
 ],
 "metadata": {
  "kernelspec": {
   "display_name": "Python 3",
   "language": "python",
   "name": "python3"
  },
  "language_info": {
   "codemirror_mode": {
    "name": "ipython",
    "version": 3
   },
   "file_extension": ".py",
   "mimetype": "text/x-python",
   "name": "python",
   "nbconvert_exporter": "python",
   "pygments_lexer": "ipython3",
   "version": "3.4.3"
  }
 },
 "nbformat": 4,
 "nbformat_minor": 0
}
