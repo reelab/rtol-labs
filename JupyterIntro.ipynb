{
 "cells": [
  {
   "cell_type": "markdown",
   "metadata": {},
   "source": [
    "# Running Jupyter on Your Machine <img src =\"https://jupyter.org/assets/main-logo.svg\" width=\"500\", style=\"float: right\">\n",
    "\n",
    "## Introduction\n",
    "\n",
    "The [Jupyter Notebook](https://jupyter.org) is a recently developed web application designed as a clean way to present information and code using various programming languages. All of the labs for this course are written in Jupyter, and you can find the Notebook file for each lab on the [course website](https://sites.google.com/a/fieldmuseum.org/rtol/lab-exercises). In order to open this file, you will need to know how to use Jupyter.\n",
    "\n",
    "## Running Jupyter\n",
    "\n",
    "Jupyter is an extension of IPython, although it now supports code from various progamming languages in an effort to be language agnostic. In order to run the Jupyter Notebook, you need to have Python installed. The best distribution to use is **Anaconda**, as it includes Jupyter Notebook. You can download Anaconda here: http://continuum.io/downloads. Choose the proper installer for your operating system (Windows, Mac OS, or Linux), and follow the instructions for installation. Once Python is properly installed, open Terminal (on a Mac) and enter the following short line of code:\n",
    "\n",
    "```bash\n",
    "ipython notebook\n",
    "```\n",
    "\n",
    "This will open Jupyter Notebook in your browser. \n",
    "\n",
    "**HOWEVER:** For the lab computers, the command is a little bit different, due to the location of the anaconda directory. You may also run into this issue on your own computer - if the directory is located somewhere strange, you can search for the directory (on Macs, Command-Spacebar) to identify the path you need. For the lab computers, it's:\n",
    "\n",
    "```bash\n",
    "/anaconda/bin/ipython notebook\n",
    "```\n",
    "\n",
    "---\n",
    "\n",
    "## Using Jupyter\n",
    "\n",
    "To get started on a notebook of your own, click the drop-down menu \"New\", located on the top right of the page. Or, click \"Upload\" to open the Notebook file for any of the labs downloaded from the [course site](https://sites.google.com/a/fieldmuseum.org/rtol/lab-exercises) (file ending in \".ipynb\").\n",
    "\n",
    "You will see that for the labs, we mostly use a basic syntax called \"Markdown\". For a \"cheat sheat\" of the available formatting functions in Markdown, see [here](https://github.com/adam-p/markdown-here/wiki/Markdown-Cheatsheet) (or any other discussion of Markdown online). The Jupyter Notebook is also compatable with HTML, which can be used for further functionality. The options in Markdown are fairly limited, because the idea is to present text in a clean, logical way without the fluff you get using word processors like Microsoft Word. Try messing around with some of the cells to get used to writing and reading Markdown. Throughout the course, input answers to questions in the lab directly into the Notebook file."
   ]
  }
 ],
 "metadata": {
  "kernelspec": {
   "display_name": "Python 2",
   "language": "python",
   "name": "python2"
  },
  "language_info": {
   "codemirror_mode": {
    "name": "ipython",
    "version": 2
   },
   "file_extension": ".py",
   "mimetype": "text/x-python",
   "name": "python",
   "nbconvert_exporter": "python",
   "pygments_lexer": "ipython2",
   "version": "2.7.5+"
  }
 },
 "nbformat": 4,
 "nbformat_minor": 0
}
